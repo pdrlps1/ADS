{
  "nbformat": 4,
  "nbformat_minor": 0,
  "metadata": {
    "colab": {
      "name": "PDI_Tutorial_2_OK.ipynb",
      "provenance": [],
      "collapsed_sections": [
        "ZJf42iHqpTND",
        "42-1xPLFOjGU",
        "ApdkP09_eHD2",
        "yJAWlNrfKSxf",
        "vrd1WxSO0mfR"
      ],
      "toc_visible": true
    },
    "kernelspec": {
      "name": "python3",
      "display_name": "Python 3"
    }
  },
  "cells": [
    {
      "cell_type": "markdown",
      "metadata": {
        "id": "sXaWxkPcfVcj"
      },
      "source": [
        "#**Tutorial 2**\n",
        "\n",
        "Neste tutorial vamos:\n",
        "- converter uma imagem para modelos de cores diferetes\n",
        "  - BRG para RGB\n",
        "  - RGB para GRAY (cinza)\n",
        "  - GRAY para BINÁRIA (preto/branco)\n",
        "- realizar pré-processamentos\n",
        "  - ajustar brilho\n",
        "  - ajustar contraste\n",
        "  - negativo\n",
        "  - equalização"
      ]
    },
    {
      "cell_type": "markdown",
      "metadata": {
        "id": "rVQ72cRFIMtP"
      },
      "source": [
        "\n",
        "##Passo 1: Carregar as dependências\n",
        "\n",
        "*   [Numpy](https://www.numpy.org/) é uma biblioteca para manipular matrizes/vetores.\n",
        "*   [Pandas](https://pandas.pydata.org/) é uma biblioteca para manipular e analisar dados.\n",
        "*   [CV2](https://opencv-python-tutroals.readthedocs.io/en/latest/py_tutorials/py_gui/py_image_display/py_image_display.html) é uma biblioteca com diversas funcionalidades de visão computacional.\n",
        "*   [Skimage](https://scikit-image.org/) é uma biblioteca que suporta aplicações de processamento de imagem em python.\n",
        "*   [PIL](https://pypi.org/project/Pillow/) é uma biblioteca que adiciona suporte à abertura e gravação de muitos formatos de imagem diferentes.\n",
        "*   [Matplotlib](https://matplotlib.org/) é uma biblioteca que gera figuras e gráficos.\n",
        "\n",
        "\n",
        "\n",
        "\n",
        "\n",
        "\n",
        "\n"
      ]
    },
    {
      "cell_type": "code",
      "metadata": {
        "id": "6dy-iP-VTibt"
      },
      "source": [
        "import numpy as np\n",
        "import pandas as pd\n",
        "import cv2 as cv \n",
        "from google.colab.patches import cv2_imshow # para exibir imagens dentro do COLAB\n",
        "from skimage import io\n",
        "from PIL import Image \n",
        "import matplotlib.pylab as plt"
      ],
      "execution_count": null,
      "outputs": []
    },
    {
      "cell_type": "markdown",
      "metadata": {
        "id": "6MYXdmP7fElG"
      },
      "source": [
        "##Passo 2: converter uma imagem para modelos de cores diferetes\n",
        "\n",
        "> Antes de praticar, leia o material de apoio chamado \"PDI_Tutorial_2.pdf\". \n",
        "Reparem que existem os ESPAÇOS DE CORES e os MODELOS DE CORES.\n"
      ]
    },
    {
      "cell_type": "markdown",
      "metadata": {
        "id": "KYhLWU_FzXFW"
      },
      "source": [
        "##Passo 2a: Imagens coloridas\n",
        "> Note que o mais comum para imagens coloridas é trabalhar com canais de cores RGB (Red, Green, Blue). Entretanto no openCV o padrão usado é BGR (Blue, Green, Red). Mas já vimos no Tutorial 1 que é possível fazer essa conversão de BGR para RGB, mas vamos relembrar abaixo.\n"
      ]
    },
    {
      "cell_type": "code",
      "metadata": {
        "id": "Tz7UAjxjfMuz"
      },
      "source": [
        "# permite que seja utilizada imagens do computador. Faz o upload do arquivo do seu computador para a nuvem aqui do Colab\n",
        "# caso estivesse programando numa IDE no seu computador ao invés do Colab, não precisaria deste comando, bastaria informar o diretório completo dentro do imread\n",
        "from google.colab import files\n",
        "uploaded = files.upload()\n",
        "\n",
        "print('='*100)\n",
        "print('ler e exibir uma imagem em BGR')\n",
        "print('='*100)\n",
        "\n",
        "imagemBGR = cv.imread('frutas.jpg') # note que o OpenCV faz a leitura de imagens coloridas como BGR \n",
        "cv2_imshow(imagemBGR) # exibe a imagem em BGR (cores OK)\n",
        "\n",
        "print('='*100)\n",
        "print('converter uma imagem BGR para RGB e exibir em RGB - ERRADO')\n",
        "print('='*100)\n",
        "\n",
        "imagemRGB = cv.cvtColor(imagemBGR, cv.COLOR_BGR2RGB) # converte BGR para RGB\n",
        "cv2_imshow(imagemRGB) # exibe a imagem em RGB (cores trocadas, pois a visualização com OpenCV deve receber BGR e não RGB)\n"
      ],
      "execution_count": null,
      "outputs": []
    },
    {
      "cell_type": "markdown",
      "metadata": {
        "id": "hPYOeezmsWFj"
      },
      "source": [
        "#### FAÇA #1: Ler e exibir uma imagem COLORIDA do seu computador\n",
        "\n",
        "Além de imagens da internet é possível processar imagens salvas no seu comptuador. Conforme demonstrado acima, por estarmos utilizando o Colab, é preciso fazer o upload da imagem do seu computador para a núvem do Colab.\n",
        "\n",
        "Faça: \n",
        "1.   escolher uma imagem COLORIDA do seu computador. Caso não queira, baixe uma da internet e salve no seu computador \n",
        "2.   fazer o upload da imagem desejada para o Colab\n",
        "3.   ler a imagem\n",
        "4.   exibir a imagem"
      ]
    },
    {
      "cell_type": "code",
      "metadata": {
        "id": "SQnoyw2SHUIc"
      },
      "source": [
        "# FAÇA AQUI O SEU CÓDIGO\n",
        "\n",
        "\n"
      ],
      "execution_count": null,
      "outputs": []
    },
    {
      "cell_type": "markdown",
      "metadata": {
        "id": "VT_zBUXmzwaC"
      },
      "source": [
        "##Passo 2b: Imagens em tons de cinza\n",
        "\n",
        "> Outro formato muito comum de processar imagens são imagens em tons de cinza (GRAY). Na verdade, na literatura existem muito mais técnicas para processar imagens em tons de cinza do que imagens coloridas. Certamente é mais confortável para os olhos ver uma imagem colorida, mas para o computador na maioria das aplicações práticas, processar imagens coloridas levam mais tempo pois são 3 matrizes, diferente das em tons de cinza (ou preto e branco) que é apenas 1 matriz, mesmo assim, obtém valores satisfatórios para as apliações. Entretanto, para projetos específicos e bem controlados, as vezes processar por cor facilita muito para o algoritmo, isto acontece quando uma cor é muito presente na imagem. \n",
        "\n",
        "> Na prática, converter uma imagem colorida (RGB) para cinza (GRAY) manualmente (sem o uso de funções prontas) é uma tarefa relativamente simples, basta realizar a média do pixel RGB. Como assim? Pegue 1 pixel qualquer da imagem, acesse as matrizes RGB e faça a média. \n",
        "\n",
        "> Ex: `GRAY[0,0] = (R[0,0] + G[0,0] + B[0,0]) / 3`\n",
        "\n",
        ">> No exemplo acima, estaríamos somando o primeiro pixel (linha=0, coluna=0) de cada canal de cor (R, G e B) e dividindo por 3, ou seja, fazendo uma média. Em seguida, basta usar uma estrutura de repetição que repita esse processo para todos os outros pixels. Como resultado final será uma matriz GRAY com os valores em tons de cinza. Agora bastaria exibir esta matriz GRAY que seria visualizada a imagem em tons de cinza. No dia-a-dia não fazemos esse processamento manualmente, pois existem funções prontas que realizar esta conversão, que serão demonstradas logo abaixo.\n",
        "\n",
        "> Assim como nas imagens coloridas, os pixels de uma imagem em tons de cinza possuem valores entre 0 e 255, ou seja, representam assim as intensidades. Note que o valor do pixel quando mais próximo de 0 for, mais escuro (preto) é o pixel, em contrapartida, quanto mais próximo de 255 for, mais claro (branco) será o pixel. No intervalo de 0 a 255, estão os tons de cinza, formando um grandiente, indo do preto até o branco.\n"
      ]
    },
    {
      "cell_type": "code",
      "metadata": {
        "id": "up8XD7qK0Cig"
      },
      "source": [
        "print('='*100)\n",
        "print('converter uma imagem BGR para GRAY e exibir em GRAY')\n",
        "print('='*100)\n",
        "\n",
        "GRAY = cv.cvtColor(imagemBGR, cv.COLOR_BGR2GRAY)\n",
        "cv2_imshow(GRAY)"
      ],
      "execution_count": null,
      "outputs": []
    },
    {
      "cell_type": "markdown",
      "metadata": {
        "id": "MMDHMJT8thFq"
      },
      "source": [
        "#### FAÇA #2: Converter a imagem COLORIDA do seu computador para CINZA\n",
        "\n",
        "1.   converter a imagem COLORIDA do seu computador para CINZA \n",
        "2.   exibir a imagem em tons de CINZA"
      ]
    },
    {
      "cell_type": "code",
      "metadata": {
        "id": "StxhrBO_thFq"
      },
      "source": [
        "# FAÇA AQUI O SEU CÓDIGO\n",
        "\n",
        "\n"
      ],
      "execution_count": null,
      "outputs": []
    },
    {
      "cell_type": "markdown",
      "metadata": {
        "id": "nna9Uo0_ylYh"
      },
      "source": [
        "##Passo 2c: Imagens em preto e branco (binária)\n",
        "\n",
        "> É comum na literatura ser encontrado o termo imagem binária, que na verdade é uma imagem em preto e branco. Isto porque diferente das imagens coloridas e em tons de cinza, as imagens em preto e branco (binária) só permitem dois valores de intensidade, 0 (preto) ou 255 (branco), daí que vem o nome binário, ou seja, apenas 2 valores, preto ou branco. \n",
        "\n",
        "> Na prática, o caminho correto é converter uma imagem colorida (RGB) para cinza (GRAY), para em seguida converter de cinza (GRAY) para preto e branco (binária). Para fazer esta conversão manualmente (sem o uso de funções prontas) também é uma tarefa relativamente simples, basta escolher uma valor entre 0 e 255 que será chamado de thresholding. Baseado neste thresholding, é necessário percorrer a matriz da imagem em tons de cinza (GRAY) conferindo se o valor do pixel atual está abaixo ou acima desse thresholding, caso esteja abaixo, ele será modificado para 0, caso contrário (esteja acima) será modificado para 255.\n",
        "\n",
        "> Novamente, no dia-a-dia não fazemos esse processamento manualmente, pois existem funções prontas que realizar esta conversão, que serão demonstradas logo abaixo.\n"
      ]
    },
    {
      "cell_type": "code",
      "metadata": {
        "id": "Ru79dLNHZByk"
      },
      "source": [
        "print('='*100)\n",
        "print('converter uma imagem GRAY para BW (black/white) e exibir em BW')\n",
        "print('='*100)\n",
        "\n",
        "# 1º parâmetro: thresh receberá o valor do threshold, como definimos manualmente, será 127\n",
        "# 2º parâmetro: BW será a imagem em Preto e Branco (BW=Black/White)\n",
        "(thresh, BW) = cv.threshold(GRAY, 127, 255, cv.THRESH_BINARY) \n",
        "               # 1º parâmetro: GRAY é a imagem em tons de cinza\n",
        "               # 2º parâmetro: 127 é o threshold definido, ou seja, o que estiver abaixo de 127 vai para 0 (preto)\n",
        "               # 3º parâmetro: 255 é para indicar para qual intensidade o pixel deve ir caso esteja acima do threshold definido (127)\n",
        "               # 4º parâmetro: existem vários métodos para escolha do threshold, este cv2.THRESH_BINARY indica que foi escolhido manualmente (127)\n",
        "cv2_imshow(BW)"
      ],
      "execution_count": null,
      "outputs": []
    },
    {
      "cell_type": "markdown",
      "metadata": {
        "id": "CmFXsejpb73Q"
      },
      "source": [
        ">Antes de converter uma imagem para binário, é muito comum gerar o histograma da imagem GRAY para investigar qual o melhor thresholding será definido na conversão para BW.\n"
      ]
    },
    {
      "cell_type": "code",
      "metadata": {
        "id": "eThgSHZOcccy"
      },
      "source": [
        "print('='*100)\n",
        "print('calcular e exibir o histograma da imagem GRAY')\n",
        "print('='*100)\n",
        "\n",
        "# Notem que existem outras maneiras para calcular o histograma. \n",
        "# No Tutorial 1 usamos a biblioteca do OpenCV pra calcular o histograma.\n",
        "# Agora estamos usando uma função 'hist' da biblioteca 'matplotlib'\n",
        "plt.hist(GRAY.ravel(), bins=256, range=[0, 255])\n",
        "        # 1º parâmetro: GRAY.ravel() é uma função que transforma a matriz de intensidades GRAY que tem 2D (2 dimensões) para um vetor 1D (1 dimensão)\n",
        "        # 2º parâmetro: bins é a quantidade de níveis de cinza que tem a imagem, neste caso são 256 níveis\n",
        "        # 3º parâmetro: range é o intervalo dos valores de intensidade de cinza, como são 256 níveis, então varia de 0 a 255\n",
        "plt.show()\n",
        "\n",
        "print('='*100)\n",
        "print('converter uma imagem GRAY para BW (black/white) e exibir em BW')\n",
        "print('='*100)\n",
        "\n",
        "# Apesar desta imagem originalmente ser colorida e de certa forma complexa (muitas cores), \n",
        "#   analisando o histograma ao escolher o threshold 60 aparenta ter separado as frutas do fundo da imagem\n",
        "# Para algumas aplicações é bem mais visível esta separação, como por exemplo placa de veículos que geralmente são cinzas e escritas em preto\n",
        "(thresh, BW) = cv.threshold(GRAY, 60, 255, cv.THRESH_BINARY) \n",
        "cv2_imshow(BW)\n"
      ],
      "execution_count": null,
      "outputs": []
    },
    {
      "cell_type": "code",
      "metadata": {
        "id": "-kYFcLcs-Alx"
      },
      "source": [
        "# uma alternativa para não precisar investigar visualmente o histograma para encontrar o melhor thresholding, é usar métodos da literatura que fazem isto automaticamente.\n",
        "# são métodos estatísticos já consagrados na literatura e que funcionam muito bem\n",
        "# um exemplo é o métoo de Otsu, muito bom para separar 2 regiões de uma imagem, quando analisamos o histogramas e separamos por vales (região escura x clara)\n",
        "\n",
        "(thresh, BW_otsu) = cv.threshold(GRAY, thresh, 255, cv.THRESH_OTSU)\n",
        "print(f'o valor de threshold retornado do método de Otsu foi: {thresh}')\n",
        "cv2_imshow(BW_otsu)\n",
        "\n",
        "# note que para cada imagem processada será analisado o histograma e definido um threshold diferente"
      ],
      "execution_count": null,
      "outputs": []
    },
    {
      "cell_type": "markdown",
      "metadata": {
        "id": "94BKcuXOuCYR"
      },
      "source": [
        "#### FAÇA #3: Converter a imagem CINZA (antiga colorida do seu computador) para BINÁRIA\n",
        "\n",
        "1.   gerar o histograma da imagem CINZA\n",
        "2.   analisar o histograma para decidir qual threshold escolher\n",
        "3.   converter a imagem CINZA para BINÁRIA utilizando o thresold acima \n",
        "4.   exibir a imagem BINÁRIA"
      ]
    },
    {
      "cell_type": "code",
      "metadata": {
        "id": "HGfRg447uCYT"
      },
      "source": [
        "# FAÇA AQUI O SEU CÓDIGO\n",
        "\n",
        "\n"
      ],
      "execution_count": null,
      "outputs": []
    },
    {
      "cell_type": "markdown",
      "metadata": {
        "id": "HiR0wzexvojy"
      },
      "source": [
        "#### DESAFIO:\n",
        "\n",
        "1.   Faça o upload da imagem 'niveis_cinza.png'\n",
        "2.   ler esta imagem \n",
        "3.   exibir esta imagem\n",
        "4.   gerar o histograma desta imagem e analisar os possíveis thresholdings \n",
        "5.   gerar e exibir uma imagem binária que apareça apenas o PRIMEIRO retângulo\n",
        "6.   gerar e exibir uma imagem binária que apareçam apenas o PRIMEIRO e o SEGUNDO retângulo\n",
        "7.   gerar e exibir uma imagem binária que apareçam apenas o PRIMEIRO, o SEGUNDO e o TERCEIRO retângulo\n",
        "8.   gerar e exibir uma imagem binária que apareçam TODOS os retângulos"
      ]
    },
    {
      "cell_type": "code",
      "metadata": {
        "id": "de48vwffvoj0"
      },
      "source": [
        "# FAÇA AQUI O SEU CÓDIGO\n",
        "\n",
        "\n"
      ],
      "execution_count": null,
      "outputs": []
    },
    {
      "cell_type": "markdown",
      "metadata": {
        "id": "TFTzLBgyOJPY"
      },
      "source": [
        "##Passo 3: Pré-processamento\n",
        "Em aplicações reais, as imagens capturadas podem estar com qualidade ruim, precisando assim que sejam pré-processadas antes de serem utilizadas. \n",
        "\n",
        "PAAR IMAGENS EM TONS DE CINZA\n",
        ">Ex1: caso uma imagem vier muito escura, podemos ajustar o brilho forçando um ganho nos pixels. \n",
        "\n",
        "> Ex2: o oposto também é válido, caso vier com excesso de brilho, podemos subtrair as intensidades dos pixels.\n",
        "\n",
        "> Ex3: as vezes convém inverter as cores (o que era PRETO vai para BRANCO e o que era BRANCO vai para PRETO), seja para ser mais confortável para os olhos analisar as imagens ou ainda para gastar menos tinta numa impressão. Isto também funciona para imagens em tons de cinza.  \n"
      ]
    },
    {
      "cell_type": "markdown",
      "metadata": {
        "id": "42-1xPLFOjGU"
      },
      "source": [
        "### Ajuste de brilho (clarear)"
      ]
    },
    {
      "cell_type": "code",
      "metadata": {
        "id": "QSneZYebQpYM"
      },
      "source": [
        "# o quanto de brilho ganhar você pode escolher, mas cuidado para não saturar a imagem, ou seja, os valores não podem ultrapassar 255.\n",
        "# abaixo tem um exemplo de uma função para clarear\n",
        "\n",
        "print('imagem original')\n",
        "cv2_imshow(GRAY)\n",
        "\n",
        "GRAY_mais_brilho = (100.0/255)*GRAY + 100\n",
        "print('imagem com mais brilho, ou seja, mais clara')\n",
        "cv2_imshow(GRAY_mais_brilho)"
      ],
      "execution_count": null,
      "outputs": []
    },
    {
      "cell_type": "markdown",
      "metadata": {
        "id": "5ha9zstI3rf6"
      },
      "source": [
        "### Ajuste de brilho (escurecer)"
      ]
    },
    {
      "cell_type": "code",
      "metadata": {
        "id": "HoOUkSQ43rf7"
      },
      "source": [
        "# o quanto de brilho diminuir você pode escolher, mas cuidado para não saturar a imagem, ou seja, os valores não podem ficar menores do que 0.\n",
        "# abaixo tem um exemplo de uma função para escurecer\n",
        "\n",
        "print('imagem original')\n",
        "cv2_imshow(GRAY)\n",
        "\n",
        "GRAY_menos_brilho = 255.0*(GRAY/255.0)**3\n",
        "print('imagem com menos brilho, ou seja, mais escuro')\n",
        "cv2_imshow(GRAY_menos_brilho)"
      ],
      "execution_count": null,
      "outputs": []
    },
    {
      "cell_type": "markdown",
      "metadata": {
        "id": "HKP1avIK3_hE"
      },
      "source": [
        "### Negativo de uma imagem em tons de cinza\n"
      ]
    },
    {
      "cell_type": "code",
      "metadata": {
        "id": "VavMa4kF3_hF"
      },
      "source": [
        "print('imagem original')\n",
        "cv2_imshow(GRAY)\n",
        "\n",
        "GRAYnegativo = 255 - GRAY\n",
        "print('imagem negativa')\n",
        "cv2_imshow(GRAYnegativo)"
      ],
      "execution_count": null,
      "outputs": []
    },
    {
      "cell_type": "markdown",
      "metadata": {
        "id": "iwzk5FAJ5emA"
      },
      "source": [
        "### Negativo de uma imagem em preto/branco\n"
      ]
    },
    {
      "cell_type": "code",
      "metadata": {
        "id": "eOtcqS2z5emA"
      },
      "source": [
        "print('imagem original')\n",
        "cv2_imshow(BW)\n",
        "\n",
        "BWnegativo = 255 - BW\n",
        "print('imagem negativa')\n",
        "cv2_imshow(BWnegativo)"
      ],
      "execution_count": null,
      "outputs": []
    },
    {
      "cell_type": "markdown",
      "metadata": {
        "id": "XcShYCVc53eA"
      },
      "source": [
        "#### FAÇA #4: Testar algumas operações matemáticas nas imagens do seu computador\n",
        "\n",
        "Para as imagens que carregou do seu computador nos exercícios anteriores faça:\n",
        "1.   clarear (use uma função diferente, de sua escolha)\n",
        "2.   escurecer (use uma função diferente, de sua escolha)\n",
        "3.   inverter \n"
      ]
    },
    {
      "cell_type": "code",
      "metadata": {
        "id": "y1AMPx1w53eB"
      },
      "source": [
        "# FAÇA AQUI O SEU CÓDIGO\n",
        "\n",
        "\n"
      ],
      "execution_count": null,
      "outputs": []
    },
    {
      "cell_type": "markdown",
      "metadata": {
        "id": "nXvsOv5u6lLN"
      },
      "source": [
        "##Passo 4: Pré-processamento (EQUALIZAÇÃO)\n",
        "Em aplicações reais, as imagens capturadas podem estar com qualidade ruim, precisando assim que sejam pré-processadas antes de serem utilizadas. \n",
        "\n",
        "Uma técnica mais sofisticada para melhorar o contraste da imagem é a equalização. No material de apoio fornecido tem mais detalhes, mas podem consultar na internet também, veja esse exemplo: https://docs.opencv.org/master/d5/daf/tutorial_py_histogram_equalization.html\n",
        "\n",
        "\n",
        "\n"
      ]
    },
    {
      "cell_type": "code",
      "metadata": {
        "id": "ZK1jxDN2SCX4"
      },
      "source": [
        "# carregar a imagem 'baixo_contraste.jpg'\n",
        "from google.colab import files\n",
        "uploaded = files.upload()\n",
        "\n",
        "print('='*100)\n",
        "print('imagem com baixo contraste')\n",
        "print('='*100)\n",
        "img_baixo_contraste_BGR = cv.imread('baixo_contraste.jpg')  \n",
        "img_baixo_contraste_GRAY = cv.cvtColor(img_baixo_contraste_BGR, cv.COLOR_BGR2GRAY)\n",
        "cv2_imshow(img_baixo_contraste_GRAY) \n",
        "\n",
        "print('='*100)\n",
        "print('imagem equalizada')\n",
        "print('='*100)\n",
        "# OpenCV já tem implementado uma função para equalização\n",
        "img_equalizada = cv.equalizeHist(img_baixo_contraste_GRAY)\n",
        "cv2_imshow(img_equalizada) "
      ],
      "execution_count": null,
      "outputs": []
    },
    {
      "cell_type": "code",
      "metadata": {
        "id": "jHhI2nALDinI"
      },
      "source": [
        "print('='*100)\n",
        "print('histograma com baixo contraste')\n",
        "print('='*100)\n",
        "plt.hist(img_baixo_contraste_GRAY.ravel(), bins=256, range=[0, 255])\n",
        "plt.show()\n",
        "# note que as intensidades estão concentradas no meio do histograma\n",
        "#   sem a presença de pixels mais escuros (próximos de 0)\n",
        "#   sem a presença de pixels mais claros (próximos de 255)\n",
        "# por isto a sensação é de uma imagens acinzentada/esfumaçada, ou seja, sem bom contraste\n",
        "\n",
        "print('='*100)\n",
        "print('histograma equalizado')\n",
        "print('='*100)\n",
        "plt.hist(img_equalizada.ravel(), bins=256, range=[0, 255])\n",
        "plt.show()\n",
        "# note que houve um espalhamento na distribuição das intensidades\n",
        "#    isto reflete na imagem, faz com que ela tenha mais intesidades diferentes\n",
        "#    agora tem valores próximos a 0 (preto) e próximos a 255 (branco)\n",
        "# isto é um melhor contraste\n"
      ],
      "execution_count": null,
      "outputs": []
    },
    {
      "cell_type": "markdown",
      "metadata": {
        "id": "AtNbXLKmFOtY"
      },
      "source": [
        ""
      ]
    },
    {
      "cell_type": "markdown",
      "metadata": {
        "id": "6v6ZhpDjFO-5"
      },
      "source": [
        "#### FAÇA #5: Testar a equalização nas imagens do seu computador\n",
        "\n",
        "Para as imagens que carregou do seu computador nos exercícios anteriores faça:\n",
        "1.   equalizar a imagem\n",
        "2.   exibir a imagem antes e depois\n",
        "3.   exibir o histograma antes e depois\n"
      ]
    },
    {
      "cell_type": "code",
      "metadata": {
        "id": "fUESvP0HFO-6"
      },
      "source": [
        "# FAÇA AQUI O SEU CÓDIGO\n",
        "\n",
        "\n"
      ],
      "execution_count": null,
      "outputs": []
    }
  ]
}