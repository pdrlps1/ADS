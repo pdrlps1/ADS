{
  "nbformat": 4,
  "nbformat_minor": 0,
  "metadata": {
    "colab": {
      "provenance": [],
      "collapsed_sections": [
        "42-1xPLFOjGU"
      ]
    },
    "kernelspec": {
      "display_name": "Python 3",
      "name": "python3"
    }
  },
  "cells": [
    {
      "cell_type": "markdown",
      "metadata": {
        "id": "sXaWxkPcfVcj"
      },
      "source": [
        "#**Tutorial 3**\n",
        "\n",
        "Neste tutorial vamos:\n",
        "- filtragem no domínio do espaço\n",
        "  - passa-baixa\n",
        "  - passa-alta\n",
        "  - derivativos\n",
        "  "
      ]
    },
    {
      "cell_type": "markdown",
      "metadata": {
        "id": "rVQ72cRFIMtP"
      },
      "source": [
        "\n",
        "##Passo 1: Carregar as dependências\n",
        "\n",
        "*   [Numpy](https://www.numpy.org/) é uma biblioteca para manipular matrizes/vetores.\n",
        "*   [Pandas](https://pandas.pydata.org/) é uma biblioteca para manipular e analisar dados.\n",
        "*   [CV2](https://opencv-python-tutroals.readthedocs.io/en/latest/py_tutorials/py_gui/py_image_display/py_image_display.html) é uma biblioteca com diversas funcionalidades de visão computacional.\n",
        "*   [Skimage](https://scikit-image.org/) é uma biblioteca que suporta aplicações de processamento de imagem em python.\n",
        "*   [PIL](https://pypi.org/project/Pillow/) é uma biblioteca que adiciona suporte à abertura e gravação de muitos formatos de imagem diferentes.\n",
        "*   [Matplotlib](https://matplotlib.org/) é uma biblioteca que gera figuras e gráficos.\n",
        "\n",
        "\n",
        "\n",
        "\n",
        "\n",
        "\n",
        "\n"
      ]
    },
    {
      "cell_type": "code",
      "metadata": {
        "id": "6dy-iP-VTibt"
      },
      "source": [
        "import numpy as np\n",
        "import pandas as pd\n",
        "import cv2 as cv \n",
        "from google.colab.patches import cv2_imshow # para exibir imagens dentro do COLAB\n",
        "from skimage import io\n",
        "from PIL import Image \n",
        "import matplotlib.pylab as plt"
      ],
      "execution_count": null,
      "outputs": []
    },
    {
      "cell_type": "markdown",
      "metadata": {
        "id": "6MYXdmP7fElG"
      },
      "source": [
        "##Passo 2: filtros no domínio do espaço\n",
        "\n",
        "Assim como os sinais unidimensionais, as imagens também podem ser filtradas com vários filtros passa-baixa, filtros passa-alta etc. Um filtro passa-baixa ajuda a remover ruídos ou borrar a imagem. Um filtro passa-alta ajuda a encontrar bordas em uma imagem.\n",
        "\n",
        "O OpenCV fornece uma função, cv2.filter2D(), para convoluir um kernel com uma imagem. \n"
      ]
    },
    {
      "cell_type": "markdown",
      "metadata": {
        "id": "KYhLWU_FzXFW"
      },
      "source": [
        "##Passo 2a: filtros passa-baixa\n",
        "\n",
        "Como exemplo, tentaremos um filtro de média em uma imagem. Um kernel de filtro de média 5x5 pode ser definido da seguinte forma:\n",
        "\n",
        "A filtragem com o kernel abaixo resulta no seguinte: para cada pixel, uma janela de 5x5 é centralizada nesse pixel, todos os pixels que caem nessa janela são somados e o resultado é dividido por 25. Isso equivale a calcular a média dos valores de pixel dentro dessa janela. Esta operação é realizada para todos os pixels na imagem para produzir a imagem filtrada de saída. Tente este código e verifique o resultado:\n"
      ]
    },
    {
      "cell_type": "code",
      "metadata": {
        "id": "Tz7UAjxjfMuz"
      },
      "source": [
        "# permite que seja utilizada imagens do computador. Faz o upload do arquivo do seu computador para a nuvem aqui do Colab\n",
        "# caso estivesse programando numa IDE no seu computador ao invés do Colab, não precisaria deste comando, bastaria informar o diretório completo dentro do imread\n",
        "#from google.colab import files\n",
        "#uploaded = files.upload()\n",
        "\n",
        "print('='*130 + '\\n original \\n' + '='*130)\n",
        "img_input = cv.imread('Lena_ruido.bmp')               # ler uma imagem e converter pra matriz\n",
        "img_input = cv.cvtColor(img_input, cv.COLOR_BGR2GRAY) # caso seja colorida (RGB), converter pra cinza (GRAY)\n",
        "cv2_imshow(img_input)\n",
        "\n",
        "print('='*130 + '\\n filtro passa-baixa 5x5 \\n' + '='*130)\n",
        "kernel = np.ones((5,5),np.float32)/25         # criar uma máscara de 5x5 (média)\n",
        "img_output = cv.filter2D(img_input,-1,kernel) # aplica a máscara na imagem por meio de janelamento\n",
        "cv2_imshow(img_output)\n",
        "\n",
        "print('='*130 + '\\n filtro passa-baixa 5x5 - blur\\n' + '='*130)\n",
        "blur = cv.blur(img_input,(5,5))\n",
        "cv2_imshow(blur)\n",
        "\n",
        "print('='*130 + '\\n filtro passa-baixa 5x5 - gaussiano\\n' + '='*130)\n",
        "gauss = cv.GaussianBlur(img_input,(5,5),0)\n",
        "cv2_imshow(gauss)\n",
        "\n",
        "print('='*130 + '\\n filtro passa-baixa 5x5 - mediano\\n' + '='*130)\n",
        "median = cv.medianBlur(img_input,5)\n",
        "cv2_imshow(median)"
      ],
      "execution_count": null,
      "outputs": []
    },
    {
      "cell_type": "markdown",
      "metadata": {
        "id": "hPYOeezmsWFj"
      },
      "source": [
        "#### FAÇA #1: Aplicar o filtro passa-baixa\n",
        "\n",
        "\n",
        "Faça: \n",
        "1.   escolher uma imagem do seu computador. Caso não queira, baixe uma da internet e salve no seu computador \n",
        "2.   fazer o upload da imagem desejada para o Colab\n",
        "3.   ler a imagem\n",
        "4.   aplicar o filtro passa-baixa na imagem\n",
        "5.   apresentar o resultado"
      ]
    },
    {
      "cell_type": "code",
      "metadata": {
        "id": "SQnoyw2SHUIc"
      },
      "source": [
        "# FAÇA AQUI O SEU CÓDIGO\n"
      ],
      "execution_count": null,
      "outputs": []
    },
    {
      "cell_type": "markdown",
      "metadata": {
        "id": "ToZs2_zsXrk2"
      },
      "source": [
        "##Passo 2b: filtros passa-alta\n",
        "\n",
        "Como exemplo, tentaremos um filtro de média em uma imagem. Um kernel de filtro de média 5x5 pode ser definido da seguinte forma:\n",
        "\n",
        "A filtragem com o kernel abaixo resulta no seguinte: para cada pixel, uma janela de 5x5 é centralizada nesse pixel, todos os pixels que caem nessa janela são somados e o resultado é dividido por 25. Isso equivale a calcular a média dos valores de pixel dentro dessa janela. Esta operação é realizada para todos os pixels na imagem para produzir a imagem filtrada de saída. Tente este código e verifique o resultado:\n"
      ]
    },
    {
      "cell_type": "code",
      "metadata": {
        "id": "dPnDIBdAZsHc"
      },
      "source": [
        "# permite que seja utilizada imagens do computador. Faz o upload do arquivo do seu computador para a nuvem aqui do Colab\n",
        "# caso estivesse programando numa IDE no seu computador ao invés do Colab, não precisaria deste comando, bastaria informar o diretório completo dentro do imread\n",
        "#from google.colab import files\n",
        "#uploaded = files.upload()\n",
        "\n",
        "print('='*130 + '\\n original \\n' + '='*130)\n",
        "img_input = cv.imread('Moon.tif')               # ler uma imagem e converter pra matriz\n",
        "img_input = cv.cvtColor(img_input, cv.COLOR_BGR2GRAY) # caso seja colorida (RGB), converter pra cinza (GRAY)\n",
        "cv2_imshow(img_input)\n",
        "\n",
        "print('='*130 + '\\n filtro gradiente manual \\n' + '='*130)\n",
        "kernel = np.array([                                   # criar um filtro manualmente pela matriz\n",
        "                  [ 1,  1,  1],\n",
        "                  [ 0,  0,  0],\n",
        "                  [-1, -1, -1]\n",
        "                  ], np.float32)\n",
        "img_output = cv.filter2D(img_input,-1,kernel) # aplica a máscara na imagem por meio de janelamento\n",
        "cv2_imshow(img_output)\n",
        "\n",
        "print('='*130 + '\\n filtro gradiente manual \\n' + '='*130)\n",
        "kernel = np.array([\n",
        "                  [ 5,  5,  5,  5,  5],\n",
        "                  [ 3,  3,  3,  3,  3],\n",
        "                  [ 0,  0,  0,  0,  0],\n",
        "                  [-3, -3, -3, -3, -3],\n",
        "                  [-5, -5, -5, -5, -5]\n",
        "                  ], np.float32)\n",
        "img_output = cv.filter2D(img_input,-1,kernel) # aplica a máscara na imagem por meio de janelamento\n",
        "cv2_imshow(img_output)\n",
        "\n",
        "print('='*130 + '\\n filtro passa-alta \\n' + '='*130)\n",
        "kernel = np.array([\n",
        "                  [-1, -1, -1],\n",
        "                  [-1,  8, -1],\n",
        "                  [-1, -1, -1]\n",
        "                  ], np.float32)\n",
        "img_output = cv.filter2D(img_input,-1,kernel) # aplica a máscara na imagem por meio de janelamento\n",
        "cv2_imshow(img_output)\n",
        "\n",
        "print('='*130 + '\\n filtro Laplaciano \\n' + '='*130)\n",
        "kernel = np.array([\n",
        "                  [1,  1, 1],\n",
        "                  [1, -8, 1],\n",
        "                  [1,  1, 1]\n",
        "                  ], np.float32)\n",
        "img_output = cv.filter2D(img_input,-1,kernel) # aplica a máscara na imagem por meio de janelamento\n",
        "cv2_imshow(img_output)\n",
        "\n",
        "\n",
        "\n",
        "print('='*130 + '\\n filtros derivativos\\n' + '='*130)\n",
        "img_input = cv.imread('Moon.tif')               # ler uma imagem e converter pra matriz\n",
        "img_input = cv.cvtColor(img_input, cv.COLOR_BGR2GRAY) # caso seja colorida (RGB), converter pra cinza (GRAY)\n",
        "laplacian = cv.Laplacian(img_input,cv.CV_64F)\n",
        "sobelx = cv.Sobel(img_input,cv.CV_64F,1,0,ksize=5)\n",
        "sobely = cv.Sobel(img_input,cv.CV_64F,0,1,ksize=5)\n",
        "print('original')\n",
        "cv2_imshow(img_input)   # original\n",
        "print('laplaciano')\n",
        "cv2_imshow(laplacian)   # laplaciano\n",
        "print('sobel em X')\n",
        "cv2_imshow(sobelx)      # derivativo em X\n",
        "print('sobel em Y')\n",
        "cv2_imshow(sobely)      # derivativo em Y\n",
        "\n",
        "print('='*130 + '\\n filtro passa-alta - canny\\n' + '='*130)\n",
        "edges = cv.Canny(img_input,100,200)\n",
        "cv2_imshow(edges)\n"
      ],
      "execution_count": null,
      "outputs": []
    },
    {
      "cell_type": "markdown",
      "metadata": {
        "id": "kliBqt6eZyGc"
      },
      "source": [
        "#### FAÇA #2: Aplicar o filtro passa-alta\n",
        "\n",
        "\n",
        "Faça: \n",
        "1.   escolher uma imagem do seu computador. Caso não queira, baixe uma da internet e salve no seu computador \n",
        "2.   fazer o upload da imagem desejada para o Colab\n",
        "3.   ler a imagem\n",
        "4.   aplicar o filtro passa-alta na imagem\n",
        "5.   apresentar o resultado"
      ]
    },
    {
      "cell_type": "code",
      "metadata": {
        "id": "5__h__HOZ1H0"
      },
      "source": [
        "# FAÇA AQUI O SEU CÓDIGO\n"
      ],
      "execution_count": null,
      "outputs": []
    }
  ]
}